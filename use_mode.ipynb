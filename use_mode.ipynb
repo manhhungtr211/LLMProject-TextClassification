{
  "nbformat": 4,
  "nbformat_minor": 0,
  "metadata": {
    "colab": {
      "provenance": [],
      "authorship_tag": "ABX9TyNW5ZgXYFDU8NsdnmbUZm1c",
      "include_colab_link": true
    },
    "kernelspec": {
      "name": "python3",
      "display_name": "Python 3"
    },
    "language_info": {
      "name": "python"
    }
  },
  "cells": [
    {
      "cell_type": "markdown",
      "metadata": {
        "id": "view-in-github",
        "colab_type": "text"
      },
      "source": [
        "<a href=\"https://colab.research.google.com/github/manhhungtr211/LLMProject-TextClassification/blob/main/use_mode.ipynb\" target=\"_parent\"><img src=\"https://colab.research.google.com/assets/colab-badge.svg\" alt=\"Open In Colab\"/></a>"
      ]
    },
    {
      "cell_type": "code",
      "execution_count": null,
      "metadata": {
        "id": "PiHbseUf_XHC"
      },
      "outputs": [],
      "source": [
        "!pip install -q datasets peft requests torch bitsandbytes transformers trl accelerate sentencepiece matplotlib"
      ]
    },
    {
      "cell_type": "code",
      "source": [
        "from google.colab import drive\n",
        "drive.mount('/content/drive')"
      ],
      "metadata": {
        "id": "YYHpbOoH_aXF"
      },
      "execution_count": null,
      "outputs": []
    },
    {
      "cell_type": "code",
      "source": [
        "from transformers import AutoTokenizer, AutoModelForSequenceClassification\n",
        "from transformers import pipeline"
      ],
      "metadata": {
        "id": "bKuQHwcK_c6e"
      },
      "execution_count": null,
      "outputs": []
    },
    {
      "cell_type": "code",
      "source": [
        "\n",
        "# Load checkpoint từ thư mục\n",
        "checkpoint_path = \"/content/drive/MyDrive/sentiment_model/checkpoint-3000\"\n",
        "\n",
        "# Load tokenizer và model\n",
        "tokenizer = AutoTokenizer.from_pretrained(checkpoint_path)\n",
        "model = AutoModelForSequenceClassification.from_pretrained(checkpoint_path)\n"
      ],
      "metadata": {
        "id": "m2uE4Wbw_dvu"
      },
      "execution_count": null,
      "outputs": []
    },
    {
      "cell_type": "code",
      "source": [
        "sentiment_pipeline = pipeline(\"sentiment-analysis\", model=model, tokenizer=tokenizer)\n",
        "\n",
        "result = sentiment_pipeline(\"I love this product!\")\n",
        "print(result)"
      ],
      "metadata": {
        "id": "qodRqIv8_evV"
      },
      "execution_count": null,
      "outputs": []
    }
  ]
}